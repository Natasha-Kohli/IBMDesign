{
 "cells": [
  {
   "cell_type": "code",
   "execution_count": 25,
   "metadata": {},
   "outputs": [
    {
     "data": {
      "text/html": [
       "<div>\n",
       "<style scoped>\n",
       "    .dataframe tbody tr th:only-of-type {\n",
       "        vertical-align: middle;\n",
       "    }\n",
       "\n",
       "    .dataframe tbody tr th {\n",
       "        vertical-align: top;\n",
       "    }\n",
       "\n",
       "    .dataframe thead th {\n",
       "        text-align: right;\n",
       "    }\n",
       "</style>\n",
       "<table border=\"1\" class=\"dataframe\">\n",
       "  <thead>\n",
       "    <tr style=\"text-align: right;\">\n",
       "      <th></th>\n",
       "      <th>Date/Time</th>\n",
       "      <th>Lat</th>\n",
       "      <th>Lon</th>\n",
       "      <th>Base</th>\n",
       "    </tr>\n",
       "  </thead>\n",
       "  <tbody>\n",
       "    <tr>\n",
       "      <th>0</th>\n",
       "      <td>4/1/2014 0:11:00</td>\n",
       "      <td>40.7690</td>\n",
       "      <td>-73.9549</td>\n",
       "      <td>B02512</td>\n",
       "    </tr>\n",
       "    <tr>\n",
       "      <th>1</th>\n",
       "      <td>4/1/2014 0:17:00</td>\n",
       "      <td>40.7267</td>\n",
       "      <td>-74.0345</td>\n",
       "      <td>B02512</td>\n",
       "    </tr>\n",
       "    <tr>\n",
       "      <th>2</th>\n",
       "      <td>4/1/2014 0:21:00</td>\n",
       "      <td>40.7316</td>\n",
       "      <td>-73.9873</td>\n",
       "      <td>B02512</td>\n",
       "    </tr>\n",
       "    <tr>\n",
       "      <th>3</th>\n",
       "      <td>4/1/2014 0:28:00</td>\n",
       "      <td>40.7588</td>\n",
       "      <td>-73.9776</td>\n",
       "      <td>B02512</td>\n",
       "    </tr>\n",
       "    <tr>\n",
       "      <th>4</th>\n",
       "      <td>4/1/2014 0:33:00</td>\n",
       "      <td>40.7594</td>\n",
       "      <td>-73.9722</td>\n",
       "      <td>B02512</td>\n",
       "    </tr>\n",
       "  </tbody>\n",
       "</table>\n",
       "</div>"
      ],
      "text/plain": [
       "          Date/Time      Lat      Lon    Base\n",
       "0  4/1/2014 0:11:00  40.7690 -73.9549  B02512\n",
       "1  4/1/2014 0:17:00  40.7267 -74.0345  B02512\n",
       "2  4/1/2014 0:21:00  40.7316 -73.9873  B02512\n",
       "3  4/1/2014 0:28:00  40.7588 -73.9776  B02512\n",
       "4  4/1/2014 0:33:00  40.7594 -73.9722  B02512"
      ]
     },
     "execution_count": 25,
     "metadata": {},
     "output_type": "execute_result"
    }
   ],
   "source": [
    "import matplotlib.pyplot as plt\n",
    "from matplotlib import cm\n",
    "import pandas as pd\n",
    "import geopandas as gpd\n",
    "import os\n",
    "\n",
    "%matplotlib inline\n",
    "DATA_DIR = '/Users/lee/Documents/UCLA/Year3/CS_130/project/uber-pickups-in-new-york-city'\n",
    "DATA_FILES = ['uber-raw-data-apr14.csv','uber-raw-data-aug14.csv','uber-raw-data-jul14.csv','uber-raw-data-jun14.csv','uber-raw-data-may14.csv','uber-raw-data-sep14.csv']\n",
    "\n",
    "uber_data_list = []\n",
    "for data_file in DATA_FILES:\n",
    "    df = pd.read_csv(os.path.join(DATA_DIR, data_file))\n",
    "    uber_data_list.append(df)\n",
    "\n",
    "uber_data = pd.concat(uber_data_list)\n",
    "uber_data.head()\n",
    "#829275 entries\n",
    "#4534327 entries total"
   ]
  },
  {
   "cell_type": "code",
   "execution_count": 27,
   "metadata": {},
   "outputs": [
    {
     "data": {
      "text/html": [
       "<div>\n",
       "<style scoped>\n",
       "    .dataframe tbody tr th:only-of-type {\n",
       "        vertical-align: middle;\n",
       "    }\n",
       "\n",
       "    .dataframe tbody tr th {\n",
       "        vertical-align: top;\n",
       "    }\n",
       "\n",
       "    .dataframe thead th {\n",
       "        text-align: right;\n",
       "    }\n",
       "</style>\n",
       "<table border=\"1\" class=\"dataframe\">\n",
       "  <thead>\n",
       "    <tr style=\"text-align: right;\">\n",
       "      <th></th>\n",
       "      <th>Date/Time</th>\n",
       "      <th>Lat</th>\n",
       "      <th>Lon</th>\n",
       "      <th>Base</th>\n",
       "      <th>Month</th>\n",
       "      <th>DayOfWeekNum</th>\n",
       "      <th>DayOfWeek</th>\n",
       "      <th>MonthDayNum</th>\n",
       "      <th>HourOfDay</th>\n",
       "      <th>ChunkIndex</th>\n",
       "      <th>Year</th>\n",
       "    </tr>\n",
       "  </thead>\n",
       "  <tbody>\n",
       "    <tr>\n",
       "      <th>0</th>\n",
       "      <td>2014-04-01 00:11:00</td>\n",
       "      <td>40.7690</td>\n",
       "      <td>-73.9549</td>\n",
       "      <td>B02512</td>\n",
       "      <td>4</td>\n",
       "      <td>1</td>\n",
       "      <td>Tuesday</td>\n",
       "      <td>1</td>\n",
       "      <td>0</td>\n",
       "      <td>0</td>\n",
       "      <td>2014</td>\n",
       "    </tr>\n",
       "    <tr>\n",
       "      <th>1</th>\n",
       "      <td>2014-04-01 00:17:00</td>\n",
       "      <td>40.7267</td>\n",
       "      <td>-74.0345</td>\n",
       "      <td>B02512</td>\n",
       "      <td>4</td>\n",
       "      <td>1</td>\n",
       "      <td>Tuesday</td>\n",
       "      <td>1</td>\n",
       "      <td>0</td>\n",
       "      <td>1</td>\n",
       "      <td>2014</td>\n",
       "    </tr>\n",
       "    <tr>\n",
       "      <th>2</th>\n",
       "      <td>2014-04-01 00:21:00</td>\n",
       "      <td>40.7316</td>\n",
       "      <td>-73.9873</td>\n",
       "      <td>B02512</td>\n",
       "      <td>4</td>\n",
       "      <td>1</td>\n",
       "      <td>Tuesday</td>\n",
       "      <td>1</td>\n",
       "      <td>0</td>\n",
       "      <td>1</td>\n",
       "      <td>2014</td>\n",
       "    </tr>\n",
       "    <tr>\n",
       "      <th>3</th>\n",
       "      <td>2014-04-01 00:28:00</td>\n",
       "      <td>40.7588</td>\n",
       "      <td>-73.9776</td>\n",
       "      <td>B02512</td>\n",
       "      <td>4</td>\n",
       "      <td>1</td>\n",
       "      <td>Tuesday</td>\n",
       "      <td>1</td>\n",
       "      <td>0</td>\n",
       "      <td>1</td>\n",
       "      <td>2014</td>\n",
       "    </tr>\n",
       "    <tr>\n",
       "      <th>4</th>\n",
       "      <td>2014-04-01 00:33:00</td>\n",
       "      <td>40.7594</td>\n",
       "      <td>-73.9722</td>\n",
       "      <td>B02512</td>\n",
       "      <td>4</td>\n",
       "      <td>1</td>\n",
       "      <td>Tuesday</td>\n",
       "      <td>1</td>\n",
       "      <td>0</td>\n",
       "      <td>2</td>\n",
       "      <td>2014</td>\n",
       "    </tr>\n",
       "  </tbody>\n",
       "</table>\n",
       "</div>"
      ],
      "text/plain": [
       "            Date/Time      Lat      Lon    Base  Month  DayOfWeekNum  \\\n",
       "0 2014-04-01 00:11:00  40.7690 -73.9549  B02512      4             1   \n",
       "1 2014-04-01 00:17:00  40.7267 -74.0345  B02512      4             1   \n",
       "2 2014-04-01 00:21:00  40.7316 -73.9873  B02512      4             1   \n",
       "3 2014-04-01 00:28:00  40.7588 -73.9776  B02512      4             1   \n",
       "4 2014-04-01 00:33:00  40.7594 -73.9722  B02512      4             1   \n",
       "\n",
       "  DayOfWeek  MonthDayNum  HourOfDay  ChunkIndex  Year  \n",
       "0   Tuesday            1          0           0  2014  \n",
       "1   Tuesday            1          0           1  2014  \n",
       "2   Tuesday            1          0           1  2014  \n",
       "3   Tuesday            1          0           1  2014  \n",
       "4   Tuesday            1          0           2  2014  "
      ]
     },
     "execution_count": 27,
     "metadata": {},
     "output_type": "execute_result"
    }
   ],
   "source": [
    "uber_data['Date/Time'] = pd.to_datetime(uber_data['Date/Time'], format=\"%m/%d/%Y %H:%M:%S\")\n",
    "uber_data['Month'] = uber_data['Date/Time'].dt.month\n",
    "uber_data['Year'] = uber_data['Date/Time'].dt.year\n",
    "uber_data['DayOfWeekNum'] = uber_data['Date/Time'].dt.dayofweek\n",
    "uber_data['DayOfWeek'] = uber_data['Date/Time'].dt.weekday_name\n",
    "uber_data['MonthDayNum'] = uber_data['Date/Time'].dt.day\n",
    "uber_data['HourOfDay'] = uber_data['Date/Time'].dt.hour\n",
    "uber_data['ChunkIndex'] = 4*uber_data['HourOfDay'] + uber_data['Date/Time'].dt.minute // 15 # which 15-minute block within the day is it in\n",
    "\n",
    "uber_data.head()"
   ]
  },
  {
   "cell_type": "code",
   "execution_count": 28,
   "metadata": {},
   "outputs": [
    {
     "name": "stdout",
     "output_type": "stream",
     "text": [
      "<class 'pandas.core.frame.DataFrame'>\n",
      "Int64Index: 4534327 entries, 0 to 1028135\n",
      "Data columns (total 11 columns):\n",
      "Date/Time       datetime64[ns]\n",
      "Lat             float64\n",
      "Lon             float64\n",
      "Base            object\n",
      "Month           int64\n",
      "DayOfWeekNum    int64\n",
      "DayOfWeek       object\n",
      "MonthDayNum     int64\n",
      "HourOfDay       int64\n",
      "ChunkIndex      int64\n",
      "Year            int64\n",
      "dtypes: datetime64[ns](1), float64(2), int64(6), object(2)\n",
      "memory usage: 415.1+ MB\n"
     ]
    }
   ],
   "source": [
    "uber_data.info()"
   ]
  },
  {
   "cell_type": "code",
   "execution_count": 29,
   "metadata": {},
   "outputs": [
    {
     "data": {
      "image/png": "[encoded data removed]",
      "text/plain": [
       "<Figure size 576x432 with 1 Axes>"
      ]
     },
     "metadata": {
      "needs_background": "light"
     },
     "output_type": "display_data"
    }
   ],
   "source": [
    "uber_weekdays = uber_data.pivot_table(index=['DayOfWeekNum', 'DayOfWeek'],\n",
    "                                  values='Base',\n",
    "                                  aggfunc='count')\n",
    "uber_weekdays.plot(kind='bar', figsize=(8,6))\n",
    "plt.ylabel('Total Journeys')\n",
    "plt.title('Journeys by Week Day');"
   ]
  },
  {
   "cell_type": "code",
   "execution_count": 14,
   "metadata": {},
   "outputs": [],
   "source": [
    "# Not displaying anything for now\n",
    "\n",
    "# gdf = gpd.GeoDataFrame(\n",
    "#     uber_data, geometry=gpd.points_from_xy(uber_data.Lon, uber_data.Lat))\n",
    "# # gdf.head()\n",
    "\n",
    "# gdf.crs = {'init': 'epsg:4326'}\n",
    "# print(gdf.head())\n",
    "\n",
    "# gdf = gdf.to_crs({'init': 'epsg:3395'})\n",
    "# print(gdf.head())\n",
    "\n"
   ]
  },
  {
   "cell_type": "code",
   "execution_count": 30,
   "metadata": {
    "scrolled": true
   },
   "outputs": [
    {
     "name": "stdout",
     "output_type": "stream",
     "text": [
      "39.6569 42.1166\n",
      "-74.929 -72.0666\n"
     ]
    }
   ],
   "source": [
    "from haversine import haversine\n",
    "\n",
    "# x is lat space, y is lon space\n",
    "min_lat, min_lon = min(uber_data['Lat']), min(uber_data['Lon'])\n",
    "max_lat, max_lon = max(uber_data['Lat']), max(uber_data['Lon'])\n",
    "\n",
    "max_x_dist = haversine((min_lat, min_lon), (max_lat, min_lon))\n",
    "max_y_dist = haversine((min_lat, min_lon), (min_lat, max_lon))\n",
    "\n",
    "x_nums, y_nums = 1000, 1000 # of cells in each axis\n",
    "x_cell_size = max_x_dist / x_nums # in km\n",
    "y_cell_size = max_y_dist / y_nums # in km\n",
    "\n",
    "def cluster_coordinate(lat, lon):\n",
    "    x_dist = haversine((min_lat, min_lon), (lat, min_lon))# dist along lat\n",
    "    y_dist = haversine((min_lat, min_lon), (min_lat, lon))# dist along lon\n",
    "    \n",
    "    return x_dist // x_cell_size, y_dist // y_cell_size\n",
    "\n",
    "\n",
    "print(min_lat, max_lat)\n",
    "print(min_lon, max_lon)\n",
    "# print()\n",
    "# cluster_coordinate(40.7366, -73.9906)\n",
    "\n",
    "# uber_data.head()\n",
    "# "
   ]
  },
  {
   "cell_type": "code",
   "execution_count": 31,
   "metadata": {},
   "outputs": [],
   "source": [
    "# add cluster coordinates to all entries in uber data\n",
    "uber_data['ClusterCoordinateX'] = uber_data.apply(lambda row: int(cluster_coordinate(row['Lat'], row['Lon'])[0]), axis=1)\n",
    "uber_data['ClusterCoordinateY'] = uber_data.apply(lambda row: int(cluster_coordinate(row['Lat'], row['Lon'])[1]), axis=1)\n"
   ]
  },
  {
   "cell_type": "code",
   "execution_count": 17,
   "metadata": {},
   "outputs": [],
   "source": [
    "# TESTS\n",
    "\n",
    "# uber_data[uber_data['ClusterCoordinateX'] == 594][uber_data['ClusterCoordinateY']==406]"
   ]
  },
  {
   "cell_type": "code",
   "execution_count": 48,
   "metadata": {},
   "outputs": [
    {
     "data": {
      "text/html": [
       "<div>\n",
       "<style scoped>\n",
       "    .dataframe tbody tr th:only-of-type {\n",
       "        vertical-align: middle;\n",
       "    }\n",
       "\n",
       "    .dataframe tbody tr th {\n",
       "        vertical-align: top;\n",
       "    }\n",
       "\n",
       "    .dataframe thead th {\n",
       "        text-align: right;\n",
       "    }\n",
       "</style>\n",
       "<table border=\"1\" class=\"dataframe\">\n",
       "  <thead>\n",
       "    <tr style=\"text-align: right;\">\n",
       "      <th></th>\n",
       "      <th></th>\n",
       "      <th></th>\n",
       "      <th></th>\n",
       "      <th></th>\n",
       "      <th></th>\n",
       "      <th></th>\n",
       "      <th>Base</th>\n",
       "    </tr>\n",
       "    <tr>\n",
       "      <th>ClusterCoordinateX</th>\n",
       "      <th>ClusterCoordinateY</th>\n",
       "      <th>Year</th>\n",
       "      <th>Month</th>\n",
       "      <th>DayOfWeekNum</th>\n",
       "      <th>MonthDayNum</th>\n",
       "      <th>ChunkIndex</th>\n",
       "      <th></th>\n",
       "    </tr>\n",
       "  </thead>\n",
       "  <tbody>\n",
       "    <tr>\n",
       "      <th>0</th>\n",
       "      <th>245</th>\n",
       "      <th>2014</th>\n",
       "      <th>8</th>\n",
       "      <th>4</th>\n",
       "      <th>1</th>\n",
       "      <th>78</th>\n",
       "      <td>1</td>\n",
       "    </tr>\n",
       "    <tr>\n",
       "      <th>4</th>\n",
       "      <th>268</th>\n",
       "      <th>2014</th>\n",
       "      <th>8</th>\n",
       "      <th>5</th>\n",
       "      <th>23</th>\n",
       "      <th>54</th>\n",
       "      <td>1</td>\n",
       "    </tr>\n",
       "    <tr>\n",
       "      <th>26</th>\n",
       "      <th>239</th>\n",
       "      <th>2014</th>\n",
       "      <th>7</th>\n",
       "      <th>5</th>\n",
       "      <th>12</th>\n",
       "      <th>57</th>\n",
       "      <td>1</td>\n",
       "    </tr>\n",
       "    <tr>\n",
       "      <th>75</th>\n",
       "      <th>271</th>\n",
       "      <th>2014</th>\n",
       "      <th>7</th>\n",
       "      <th>5</th>\n",
       "      <th>19</th>\n",
       "      <th>89</th>\n",
       "      <td>1</td>\n",
       "    </tr>\n",
       "    <tr>\n",
       "      <th>101</th>\n",
       "      <th>296</th>\n",
       "      <th>2014</th>\n",
       "      <th>7</th>\n",
       "      <th>5</th>\n",
       "      <th>12</th>\n",
       "      <th>91</th>\n",
       "      <td>1</td>\n",
       "    </tr>\n",
       "  </tbody>\n",
       "</table>\n",
       "</div>"
      ],
      "text/plain": [
       "                                                                                      Base\n",
       "ClusterCoordinateX ClusterCoordinateY Year Month DayOfWeekNum MonthDayNum ChunkIndex      \n",
       "0                  245                2014 8     4            1           78             1\n",
       "4                  268                2014 8     5            23          54             1\n",
       "26                 239                2014 7     5            12          57             1\n",
       "75                 271                2014 7     5            19          89             1\n",
       "101                296                2014 7     5            12          91             1"
      ]
     },
     "execution_count": 48,
     "metadata": {},
     "output_type": "execute_result"
    }
   ],
   "source": [
    "\n",
    "# count rides per 15-minute chunk for each (chunkindex, monthdaynum, dayofweeknum, coordX, coordY) as key\n",
    "uber_rides_count = uber_data.pivot_table(index=[ 'ClusterCoordinateX', 'ClusterCoordinateY', 'Year', 'Month', 'DayOfWeekNum', 'MonthDayNum', 'ChunkIndex'],\n",
    "                                  values='Base',\n",
    "                                  aggfunc='count')\n",
    "uber_rides_count.head()\n"
   ]
  },
  {
   "cell_type": "code",
   "execution_count": 49,
   "metadata": {},
   "outputs": [
    {
     "data": {
      "text/html": [
       "<div>\n",
       "<style scoped>\n",
       "    .dataframe tbody tr th:only-of-type {\n",
       "        vertical-align: middle;\n",
       "    }\n",
       "\n",
       "    .dataframe tbody tr th {\n",
       "        vertical-align: top;\n",
       "    }\n",
       "\n",
       "    .dataframe thead th {\n",
       "        text-align: right;\n",
       "    }\n",
       "</style>\n",
       "<table border=\"1\" class=\"dataframe\">\n",
       "  <thead>\n",
       "    <tr style=\"text-align: right;\">\n",
       "      <th></th>\n",
       "      <th></th>\n",
       "      <th></th>\n",
       "      <th></th>\n",
       "      <th></th>\n",
       "      <th>Base</th>\n",
       "    </tr>\n",
       "    <tr>\n",
       "      <th>ClusterCoordinateX</th>\n",
       "      <th>ClusterCoordinateY</th>\n",
       "      <th>DayOfWeekNum</th>\n",
       "      <th>MonthDayNum</th>\n",
       "      <th>ChunkIndex</th>\n",
       "      <th></th>\n",
       "    </tr>\n",
       "  </thead>\n",
       "  <tbody>\n",
       "    <tr>\n",
       "      <th>0</th>\n",
       "      <th>245</th>\n",
       "      <th>4</th>\n",
       "      <th>1</th>\n",
       "      <th>78</th>\n",
       "      <td>1.0</td>\n",
       "    </tr>\n",
       "    <tr>\n",
       "      <th>4</th>\n",
       "      <th>268</th>\n",
       "      <th>5</th>\n",
       "      <th>23</th>\n",
       "      <th>54</th>\n",
       "      <td>1.0</td>\n",
       "    </tr>\n",
       "    <tr>\n",
       "      <th>26</th>\n",
       "      <th>239</th>\n",
       "      <th>5</th>\n",
       "      <th>12</th>\n",
       "      <th>57</th>\n",
       "      <td>1.0</td>\n",
       "    </tr>\n",
       "    <tr>\n",
       "      <th>75</th>\n",
       "      <th>271</th>\n",
       "      <th>5</th>\n",
       "      <th>19</th>\n",
       "      <th>89</th>\n",
       "      <td>1.0</td>\n",
       "    </tr>\n",
       "    <tr>\n",
       "      <th>101</th>\n",
       "      <th>296</th>\n",
       "      <th>5</th>\n",
       "      <th>12</th>\n",
       "      <th>91</th>\n",
       "      <td>1.0</td>\n",
       "    </tr>\n",
       "  </tbody>\n",
       "</table>\n",
       "</div>"
      ],
      "text/plain": [
       "                                                                           Base\n",
       "ClusterCoordinateX ClusterCoordinateY DayOfWeekNum MonthDayNum ChunkIndex      \n",
       "0                  245                4            1           78           1.0\n",
       "4                  268                5            23          54           1.0\n",
       "26                 239                5            12          57           1.0\n",
       "75                 271                5            19          89           1.0\n",
       "101                296                5            12          91           1.0"
      ]
     },
     "execution_count": 49,
     "metadata": {},
     "output_type": "execute_result"
    }
   ],
   "source": [
    "# average count# across month, year\n",
    "uber_rides_count = uber_rides_count.pivot_table(index=[ 'ClusterCoordinateX', 'ClusterCoordinateY', 'DayOfWeekNum', 'MonthDayNum', 'ChunkIndex'],\n",
    "                                  values='Base',\n",
    "                                  aggfunc='mean')\n",
    "\n",
    "uber_rides_count.head()"
   ]
  },
  {
   "cell_type": "code",
   "execution_count": 65,
   "metadata": {},
   "outputs": [
    {
     "data": {
      "text/html": [
       "<div>\n",
       "<style scoped>\n",
       "    .dataframe tbody tr th:only-of-type {\n",
       "        vertical-align: middle;\n",
       "    }\n",
       "\n",
       "    .dataframe tbody tr th {\n",
       "        vertical-align: top;\n",
       "    }\n",
       "\n",
       "    .dataframe thead th {\n",
       "        text-align: right;\n",
       "    }\n",
       "</style>\n",
       "<table border=\"1\" class=\"dataframe\">\n",
       "  <thead>\n",
       "    <tr style=\"text-align: right;\">\n",
       "      <th></th>\n",
       "      <th></th>\n",
       "      <th></th>\n",
       "      <th></th>\n",
       "      <th></th>\n",
       "      <th>Base</th>\n",
       "    </tr>\n",
       "    <tr>\n",
       "      <th>ClusterCoordinateX</th>\n",
       "      <th>ClusterCoordinateY</th>\n",
       "      <th>DayOfWeekNum</th>\n",
       "      <th>MonthDayNum</th>\n",
       "      <th>ChunkIndex</th>\n",
       "      <th></th>\n",
       "    </tr>\n",
       "  </thead>\n",
       "  <tbody>\n",
       "    <tr>\n",
       "      <th>0</th>\n",
       "      <th>245</th>\n",
       "      <th>4</th>\n",
       "      <th>1</th>\n",
       "      <th>78</th>\n",
       "      <td>1</td>\n",
       "    </tr>\n",
       "    <tr>\n",
       "      <th>4</th>\n",
       "      <th>268</th>\n",
       "      <th>5</th>\n",
       "      <th>23</th>\n",
       "      <th>54</th>\n",
       "      <td>1</td>\n",
       "    </tr>\n",
       "    <tr>\n",
       "      <th>26</th>\n",
       "      <th>239</th>\n",
       "      <th>5</th>\n",
       "      <th>12</th>\n",
       "      <th>57</th>\n",
       "      <td>1</td>\n",
       "    </tr>\n",
       "    <tr>\n",
       "      <th>75</th>\n",
       "      <th>271</th>\n",
       "      <th>5</th>\n",
       "      <th>19</th>\n",
       "      <th>89</th>\n",
       "      <td>1</td>\n",
       "    </tr>\n",
       "    <tr>\n",
       "      <th>101</th>\n",
       "      <th>296</th>\n",
       "      <th>5</th>\n",
       "      <th>12</th>\n",
       "      <th>91</th>\n",
       "      <td>1</td>\n",
       "    </tr>\n",
       "  </tbody>\n",
       "</table>\n",
       "</div>"
      ],
      "text/plain": [
       "                                                                           Base\n",
       "ClusterCoordinateX ClusterCoordinateY DayOfWeekNum MonthDayNum ChunkIndex      \n",
       "0                  245                4            1           78             1\n",
       "4                  268                5            23          54             1\n",
       "26                 239                5            12          57             1\n",
       "75                 271                5            19          89             1\n",
       "101                296                5            12          91             1"
      ]
     },
     "execution_count": 65,
     "metadata": {},
     "output_type": "execute_result"
    }
   ],
   "source": [
    "# round Base column to nearest integer\n",
    "uber_rides_count.Base = uber_rides_count.Base.round(0).astype(int)\n",
    "uber_rides_count.head()"
   ]
  },
  {
   "cell_type": "code",
   "execution_count": 66,
   "metadata": {},
   "outputs": [],
   "source": [
    "# START TRAINING STUFF HERE\n",
    "\n",
    "# write uber data to output file\n",
    "TRAIN_FILE = 'full_training.csv'\n",
    "uber_rides_count.to_csv(TRAIN_FILE)"
   ]
  },
  {
   "cell_type": "code",
   "execution_count": 67,
   "metadata": {},
   "outputs": [
    {
     "data": {
      "text/html": [
       "<div>\n",
       "<style scoped>\n",
       "    .dataframe tbody tr th:only-of-type {\n",
       "        vertical-align: middle;\n",
       "    }\n",
       "\n",
       "    .dataframe tbody tr th {\n",
       "        vertical-align: top;\n",
       "    }\n",
       "\n",
       "    .dataframe thead th {\n",
       "        text-align: right;\n",
       "    }\n",
       "</style>\n",
       "<table border=\"1\" class=\"dataframe\">\n",
       "  <thead>\n",
       "    <tr style=\"text-align: right;\">\n",
       "      <th></th>\n",
       "      <th>ClusterCoordinateX</th>\n",
       "      <th>ClusterCoordinateY</th>\n",
       "      <th>DayOfWeekNum</th>\n",
       "      <th>MonthDayNum</th>\n",
       "      <th>ChunkIndex</th>\n",
       "      <th>Base</th>\n",
       "    </tr>\n",
       "  </thead>\n",
       "  <tbody>\n",
       "    <tr>\n",
       "      <th>0</th>\n",
       "      <td>0</td>\n",
       "      <td>245</td>\n",
       "      <td>4</td>\n",
       "      <td>1</td>\n",
       "      <td>78</td>\n",
       "      <td>1</td>\n",
       "    </tr>\n",
       "    <tr>\n",
       "      <th>1</th>\n",
       "      <td>4</td>\n",
       "      <td>268</td>\n",
       "      <td>5</td>\n",
       "      <td>23</td>\n",
       "      <td>54</td>\n",
       "      <td>1</td>\n",
       "    </tr>\n",
       "    <tr>\n",
       "      <th>2</th>\n",
       "      <td>26</td>\n",
       "      <td>239</td>\n",
       "      <td>5</td>\n",
       "      <td>12</td>\n",
       "      <td>57</td>\n",
       "      <td>1</td>\n",
       "    </tr>\n",
       "    <tr>\n",
       "      <th>3</th>\n",
       "      <td>75</td>\n",
       "      <td>271</td>\n",
       "      <td>5</td>\n",
       "      <td>19</td>\n",
       "      <td>89</td>\n",
       "      <td>1</td>\n",
       "    </tr>\n",
       "    <tr>\n",
       "      <th>4</th>\n",
       "      <td>101</td>\n",
       "      <td>296</td>\n",
       "      <td>5</td>\n",
       "      <td>12</td>\n",
       "      <td>91</td>\n",
       "      <td>1</td>\n",
       "    </tr>\n",
       "  </tbody>\n",
       "</table>\n",
       "</div>"
      ],
      "text/plain": [
       "   ClusterCoordinateX  ClusterCoordinateY  DayOfWeekNum  MonthDayNum  \\\n",
       "0                   0                 245             4            1   \n",
       "1                   4                 268             5           23   \n",
       "2                  26                 239             5           12   \n",
       "3                  75                 271             5           19   \n",
       "4                 101                 296             5           12   \n",
       "\n",
       "   ChunkIndex  Base  \n",
       "0          78     1  \n",
       "1          54     1  \n",
       "2          57     1  \n",
       "3          89     1  \n",
       "4          91     1  "
      ]
     },
     "execution_count": 67,
     "metadata": {},
     "output_type": "execute_result"
    }
   ],
   "source": [
    "# NOW START TRAINING ---------------\n",
    "dataset = pd.read_csv(TRAIN_FILE)\n",
    "dataset.head()"
   ]
  },
  {
   "cell_type": "code",
   "execution_count": 68,
   "metadata": {},
   "outputs": [
    {
     "name": "stdout",
     "output_type": "stream",
     "text": [
      "<class 'pandas.core.frame.DataFrame'>\n",
      "RangeIndex: 3007121 entries, 0 to 3007120\n",
      "Data columns (total 6 columns):\n",
      "ClusterCoordinateX    int64\n",
      "ClusterCoordinateY    int64\n",
      "DayOfWeekNum          int64\n",
      "MonthDayNum           int64\n",
      "ChunkIndex            int64\n",
      "Base                  int64\n",
      "dtypes: int64(6)\n",
      "memory usage: 137.7 MB\n"
     ]
    }
   ],
   "source": [
    "dataset.info()"
   ]
  },
  {
   "cell_type": "code",
   "execution_count": 69,
   "metadata": {},
   "outputs": [
    {
     "data": {
      "text/plain": [
       "ClusterCoordinateX    447\n",
       "ClusterCoordinateY    324\n",
       "DayOfWeekNum            0\n",
       "MonthDayNum            12\n",
       "ChunkIndex             87\n",
       "Base                   63\n",
       "Name: 2045528, dtype: int64"
      ]
     },
     "execution_count": 69,
     "metadata": {},
     "output_type": "execute_result"
    }
   ],
   "source": [
    "dataset.loc[dataset['Base'].idxmax()]\n",
    "# this ends up being JFK airport which seems accurate"
   ]
  },
  {
   "cell_type": "code",
   "execution_count": 70,
   "metadata": {},
   "outputs": [
    {
     "name": "stdout",
     "output_type": "stream",
     "text": [
      "Min rides: 1, max rides: 63\n",
      "Average rides: 1.423512721968953\n",
      "stddev rides: 0.9634615510032023\n"
     ]
    }
   ],
   "source": [
    "# stats for 15-minute increments\n",
    "print('Min rides: {}, max rides: {}'.format(min(dataset['Base']), max(dataset['Base'])))\n",
    "print('Average rides: {}'.format(dataset['Base'].mean()))\n",
    "print('stddev rides: {}'.format(dataset['Base'].std()))"
   ]
  },
  {
   "cell_type": "code",
   "execution_count": 71,
   "metadata": {},
   "outputs": [],
   "source": [
    "# example_test = dataset[dataset['ClusterCoordinateX']==594][dataset['ClusterCoordinateY']==406][dataset['DayOfWeekNum']==0][dataset['MonthDayNum']==4].sort_values(by=['ChunkIndex'])\n",
    "# example_test.plot(x='ChunkIndex', y='Base')\n",
    "\n"
   ]
  },
  {
   "cell_type": "code",
   "execution_count": 94,
   "metadata": {},
   "outputs": [
    {
     "name": "stdout",
     "output_type": "stream",
     "text": [
      "[[ -31.20666705 -216.70477926  391.60729383   15.60439988]\n",
      " [  -6.53404003 -194.22422867  394.99242185   -6.29848567]\n",
      " [  -9.96069823 -215.15768655  365.19786063    4.53051259]\n",
      " ...\n",
      " [  11.52803908  451.11041645 -181.84997257   -8.34038763]\n",
      " [  28.83569841  495.88361633 -178.92668781   -8.17719793]\n",
      " [  48.00212394  803.43365013 -332.97000916   -2.78176345]]\n",
      "[0.41386489 0.31492885 0.21469932 0.05331811]\n",
      "0.9968111682896806\n"
     ]
    }
   ],
   "source": [
    "from sklearn.decomposition import PCA\n",
    "pca = PCA(n_components=4)\n",
    "print(pca.fit_transform(dataset))\n",
    "print(pca.explained_variance_ratio_)\n",
    "print(sum(pca.explained_variance_ratio_))"
   ]
  },
  {
   "cell_type": "code",
   "execution_count": 77,
   "metadata": {},
   "outputs": [],
   "source": [
    "# TRAINING STARTS\n",
    "\n",
    "import numpy as np\n",
    "from sklearn.ensemble import RandomForestClassifier\n",
    "from sklearn.linear_model import LogisticRegression\n",
    "\n",
    "# split dataset into (train, test)\n",
    "# For now, splitting on all data tuples, not separating based on cluster\n",
    "def split(dataset, train_fraction):\n",
    "    msk = np.random.rand(len(dataset)) < train_fraction\n",
    "    return dataset[msk], dataset[~msk]\n",
    "\n",
    "train, test = split(dataset, .7)\n",
    "features = dataset.columns[:5] # coordX, coordY, dayofweeknum, monthdaynum, chunkindex\n",
    "\n"
   ]
  },
  {
   "cell_type": "code",
   "execution_count": 100,
   "metadata": {},
   "outputs": [
    {
     "name": "stdout",
     "output_type": "stream",
     "text": [
      "[0.16359256 0.13639697 0.06326894 0.33055457 0.30618695]\n"
     ]
    }
   ],
   "source": [
    "# models\n",
    "randf = RandomForestClassifier(n_estimators=30)\n",
    "randf.fit(train[features], train['Base'])\n",
    "print(randf.feature_importances_)"
   ]
  },
  {
   "cell_type": "code",
   "execution_count": 79,
   "metadata": {},
   "outputs": [],
   "source": [
    "# models\n",
    "# log_reg = LogisticRegression(random_state=0, solver='lbfgs', multi_class='multinomial', max_iter=500)\n",
    "# log_reg.fit(train[features], train['Base'])"
   ]
  },
  {
   "cell_type": "code",
   "execution_count": 101,
   "metadata": {},
   "outputs": [],
   "source": [
    "# expected\n",
    "expect = test['Base']\n",
    "\n",
    "# predictions\n",
    "randf_pred = randf.predict(test[features])\n",
    "# log_reg_pred = log_reg.predict(test[features])\n",
    "\n",
    "\n",
    "# print(list(zip(train[features], clf.feature_importances_)))"
   ]
  },
  {
   "cell_type": "code",
   "execution_count": null,
   "metadata": {},
   "outputs": [],
   "source": [
    "confusion = pd.crosstab(expect, randf_pred, rownames=['Actual'], colnames=['Predicted'])\n",
    "confusion"
   ]
  },
  {
   "cell_type": "code",
   "execution_count": 102,
   "metadata": {},
   "outputs": [
    {
     "name": "stdout",
     "output_type": "stream",
     "text": [
      "RANDF mean_squared_error: 0.9297400505841529\n",
      "RANDF accuracy: 0.7121673151104937\n",
      "\n"
     ]
    }
   ],
   "source": [
    "# metrics\n",
    "\n",
    "from sklearn.metrics import mean_squared_error, accuracy_score\n",
    "\n",
    "expected = np.array(expect)\n",
    "\n",
    "print(\"RANDF mean_squared_error: {}\".format(mean_squared_error(expected, randf_pred)))\n",
    "print(\"RANDF accuracy: {}\".format(accuracy_score(expected, randf_pred)))\n",
    "print()\n",
    "\n",
    "# print(\"LOGREG mean_squared_error: {}\".format(mean_squared_error(expected, log_reg_pred)))\n",
    "# print(\"LOGREG accuracy: {}\".format(accuracy_score(expected, log_reg_pred)))\n",
    "# print()"
   ]
  },
  {
   "cell_type": "code",
   "execution_count": 109,
   "metadata": {},
   "outputs": [
    {
     "name": "stderr",
     "output_type": "stream",
     "text": [
      "/usr/local/lib/python3.7/site-packages/ipykernel_launcher.py:9: UserWarning: Boolean Series key will be reindexed to match DataFrame index.\n",
      "  if __name__ == '__main__':\n"
     ]
    },
    {
     "data": {
      "image/png": "[encoded data removed]",
      "text/plain": [
       "<Figure size 432x288 with 1 Axes>"
      ]
     },
     "metadata": {
      "needs_background": "light"
     },
     "output_type": "display_data"
    },
    {
     "data": {
      "image/png": "[encoded data removed]",
      "text/plain": [
       "<Figure size 432x288 with 1 Axes>"
      ]
     },
     "metadata": {
      "needs_background": "light"
     },
     "output_type": "display_data"
    }
   ],
   "source": [
    "# example of running the model\n",
    "# coordX, coordY, dayofweeknum, monthdaynum, chunkindex\n",
    "\n",
    "# plot predicted nums, and true nums for each chunkindex\n",
    "\n",
    "# ClusterCoordinateX\tClusterCoordinateY\tDayOfWeekNum\tMonthDayNum\tChunkIndex\tBase\n",
    "def visualize(clf, coordx, coordy, dayofweeknum, monthdaynum):\n",
    "    \n",
    "    expect = dataset[dataset['ClusterCoordinateX']==coordx][dataset['ClusterCoordinateY']==coordy][dataset['DayOfWeekNum']==dayofweeknum][dataset['MonthDayNum']==monthdaynum].sort_values(by=['ChunkIndex'])\n",
    "    if expect.empty:\n",
    "        return\n",
    "    test_data = np.zeros((len(expect), 5))\n",
    "    \n",
    "    test_data[:, 0] = len(expect)*[coordx]\n",
    "    test_data[:, 1] = len(expect)*[coordy]\n",
    "    test_data[:, 2] = len(expect)*[dayofweeknum]\n",
    "    test_data[:, 3] = len(expect)*[monthdaynum]\n",
    "    test_data[:, 4] = expect['ChunkIndex']\n",
    "    pred = clf.predict(test_data)\n",
    "    expect['pred'] = pred\n",
    "    \n",
    "    expect.plot(x='ChunkIndex', y='Base', title='Expected graph')\n",
    "    expect.plot(x='ChunkIndex', y='pred', title='Predicted graph')\n",
    "    \n",
    "\n",
    "visualize(randf, 447, 324, 0, 5)\n",
    "#visualize(662, 317, 0, 18)\n",
    "# visualize(653, 315, 3, 21)\n",
    "#visualize(672, 369, 6, 17)"
   ]
  },
  {
   "cell_type": "code",
   "execution_count": 103,
   "metadata": {},
   "outputs": [
    {
     "name": "stderr",
     "output_type": "stream",
     "text": [
      "/usr/local/lib/python3.7/site-packages/ipykernel_launcher.py:4: UserWarning: Boolean Series key will be reindexed to match DataFrame index.\n",
      "  after removing the cwd from sys.path.\n"
     ]
    },
    {
     "name": "stdout",
     "output_type": "stream",
     "text": [
      "38625\n"
     ]
    }
   ],
   "source": [
    "db = pd.read_csv('db_all_aug14box.csv')\n",
    "\n",
    "def get_latlons_for_cluster(db, clusterX, clusterY):\n",
    "    points = db[db['ClusterCoordinateX']==clusterX][db['ClusterCoordinateY']==clusterY][['Lat', 'Lon']]\n",
    "    print(len(points))\n",
    "    points['name'] = '[{} {}]'.format(clusterX, clusterY)\n",
    "    points['color'] = '#FFFF00'\n",
    "    points.to_csv('points.csv'.format(clusterX, clusterY), index=False)\n",
    "    points.head()\n",
    "\n",
    "\n",
    "get_latlons_for_cluster(db, 594, 406)"
   ]
  },
  {
   "cell_type": "code",
   "execution_count": null,
   "metadata": {},
   "outputs": [],
   "source": []
  }
 ],
 "metadata": {
  "kernelspec": {
   "display_name": "Python 3",
   "language": "python",
   "name": "python3"
  },
  "language_info": {
   "codemirror_mode": {
    "name": "ipython",
    "version": 3
   },
   "file_extension": ".py",
   "mimetype": "text/x-python",
   "name": "python",
   "nbconvert_exporter": "python",
   "pygments_lexer": "ipython3",
   "version": "3.7.3"
  }
 },
 "nbformat": 4,
 "nbformat_minor": 2
}
